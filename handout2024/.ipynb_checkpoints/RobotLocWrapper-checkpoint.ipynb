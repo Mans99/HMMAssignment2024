{
 "cells": [
  {
   "cell_type": "markdown",
   "metadata": {},
   "source": [
    "### Python based viewer tool for \"Probabilistic Reasoning over time\", EDAP01 Artificial Intelligence\n",
    "This notebook has been provided to you by Alexander Dürr, teaching assistant on the course, spring term 2021. It is based on the ideas and structure of the original Java skeleton for this assignment, provided by Elin A. Topp. Contact us (elin_anna.topp at cs.lth.se) in case you need help!"
   ]
  },
  {
   "cell_type": "markdown",
   "metadata": {},
   "source": [
    "### Note: Installing and activating widgets for Jupyter Notebook\n",
    "To be able to display the visualization (dashboard,animations,etc.) you have to initially install the package  if you don't have it yet"
   ]
  },
  {
   "cell_type": "code",
   "execution_count": 1,
   "metadata": {},
   "outputs": [
    {
     "name": "stdout",
     "output_type": "stream",
     "text": [
      "Requirement already satisfied: ipywidgets in /Applications/anaconda3/lib/python3.11/site-packages (7.8.1)\n",
      "Requirement already satisfied: comm>=0.1.3 in /Applications/anaconda3/lib/python3.11/site-packages (from ipywidgets) (0.2.0)\n",
      "Requirement already satisfied: ipython-genutils~=0.2.0 in /Applications/anaconda3/lib/python3.11/site-packages (from ipywidgets) (0.2.0)\n",
      "Requirement already satisfied: traitlets>=4.3.1 in /Applications/anaconda3/lib/python3.11/site-packages (from ipywidgets) (5.7.1)\n",
      "Requirement already satisfied: widgetsnbextension~=3.6.6 in /Applications/anaconda3/lib/python3.11/site-packages (from ipywidgets) (3.6.6)\n",
      "Requirement already satisfied: ipython>=4.0.0 in /Applications/anaconda3/lib/python3.11/site-packages (from ipywidgets) (8.12.0)\n",
      "Requirement already satisfied: jupyterlab-widgets<3,>=1.0.0 in /Applications/anaconda3/lib/python3.11/site-packages (from ipywidgets) (1.1.7)\n",
      "Requirement already satisfied: backcall in /Applications/anaconda3/lib/python3.11/site-packages (from ipython>=4.0.0->ipywidgets) (0.2.0)\n",
      "Requirement already satisfied: decorator in /Applications/anaconda3/lib/python3.11/site-packages (from ipython>=4.0.0->ipywidgets) (5.1.1)\n",
      "Requirement already satisfied: jedi>=0.16 in /Applications/anaconda3/lib/python3.11/site-packages (from ipython>=4.0.0->ipywidgets) (0.18.1)\n",
      "Requirement already satisfied: matplotlib-inline in /Applications/anaconda3/lib/python3.11/site-packages (from ipython>=4.0.0->ipywidgets) (0.1.6)\n",
      "Requirement already satisfied: pickleshare in /Applications/anaconda3/lib/python3.11/site-packages (from ipython>=4.0.0->ipywidgets) (0.7.5)\n",
      "Requirement already satisfied: prompt-toolkit!=3.0.37,<3.1.0,>=3.0.30 in /Applications/anaconda3/lib/python3.11/site-packages (from ipython>=4.0.0->ipywidgets) (3.0.36)\n",
      "Requirement already satisfied: pygments>=2.4.0 in /Applications/anaconda3/lib/python3.11/site-packages (from ipython>=4.0.0->ipywidgets) (2.15.1)\n",
      "Requirement already satisfied: stack-data in /Applications/anaconda3/lib/python3.11/site-packages (from ipython>=4.0.0->ipywidgets) (0.2.0)\n",
      "Requirement already satisfied: pexpect>4.3 in /Applications/anaconda3/lib/python3.11/site-packages (from ipython>=4.0.0->ipywidgets) (4.8.0)\n",
      "Requirement already satisfied: appnope in /Applications/anaconda3/lib/python3.11/site-packages (from ipython>=4.0.0->ipywidgets) (0.1.2)\n",
      "Requirement already satisfied: notebook>=4.4.1 in /Applications/anaconda3/lib/python3.11/site-packages (from widgetsnbextension~=3.6.6->ipywidgets) (6.5.4)\n",
      "Requirement already satisfied: parso<0.9.0,>=0.8.0 in /Applications/anaconda3/lib/python3.11/site-packages (from jedi>=0.16->ipython>=4.0.0->ipywidgets) (0.8.3)\n",
      "Requirement already satisfied: jinja2 in /Applications/anaconda3/lib/python3.11/site-packages (from notebook>=4.4.1->widgetsnbextension~=3.6.6->ipywidgets) (3.1.2)\n",
      "Requirement already satisfied: tornado>=6.1 in /Applications/anaconda3/lib/python3.11/site-packages (from notebook>=4.4.1->widgetsnbextension~=3.6.6->ipywidgets) (6.3.2)\n",
      "Requirement already satisfied: pyzmq>=17 in /Applications/anaconda3/lib/python3.11/site-packages (from notebook>=4.4.1->widgetsnbextension~=3.6.6->ipywidgets) (25.1.2)\n",
      "Requirement already satisfied: argon2-cffi in /Applications/anaconda3/lib/python3.11/site-packages (from notebook>=4.4.1->widgetsnbextension~=3.6.6->ipywidgets) (21.3.0)\n",
      "Requirement already satisfied: jupyter-core>=4.6.1 in /Applications/anaconda3/lib/python3.11/site-packages (from notebook>=4.4.1->widgetsnbextension~=3.6.6->ipywidgets) (5.3.0)\n",
      "Requirement already satisfied: jupyter-client>=5.3.4 in /Applications/anaconda3/lib/python3.11/site-packages (from notebook>=4.4.1->widgetsnbextension~=3.6.6->ipywidgets) (7.4.9)\n",
      "Requirement already satisfied: nbformat in /Applications/anaconda3/lib/python3.11/site-packages (from notebook>=4.4.1->widgetsnbextension~=3.6.6->ipywidgets) (5.7.0)\n",
      "Requirement already satisfied: nbconvert>=5 in /Applications/anaconda3/lib/python3.11/site-packages (from notebook>=4.4.1->widgetsnbextension~=3.6.6->ipywidgets) (6.5.4)\n",
      "Requirement already satisfied: nest-asyncio>=1.5 in /Applications/anaconda3/lib/python3.11/site-packages (from notebook>=4.4.1->widgetsnbextension~=3.6.6->ipywidgets) (1.5.6)\n",
      "Requirement already satisfied: ipykernel in /Applications/anaconda3/lib/python3.11/site-packages (from notebook>=4.4.1->widgetsnbextension~=3.6.6->ipywidgets) (6.19.2)\n",
      "Requirement already satisfied: Send2Trash>=1.8.0 in /Applications/anaconda3/lib/python3.11/site-packages (from notebook>=4.4.1->widgetsnbextension~=3.6.6->ipywidgets) (1.8.2)\n",
      "Requirement already satisfied: terminado>=0.8.3 in /Applications/anaconda3/lib/python3.11/site-packages (from notebook>=4.4.1->widgetsnbextension~=3.6.6->ipywidgets) (0.17.1)\n",
      "Requirement already satisfied: prometheus-client in /Applications/anaconda3/lib/python3.11/site-packages (from notebook>=4.4.1->widgetsnbextension~=3.6.6->ipywidgets) (0.14.1)\n",
      "Requirement already satisfied: nbclassic>=0.4.7 in /Applications/anaconda3/lib/python3.11/site-packages (from notebook>=4.4.1->widgetsnbextension~=3.6.6->ipywidgets) (0.5.5)\n",
      "Requirement already satisfied: ptyprocess>=0.5 in /Applications/anaconda3/lib/python3.11/site-packages (from pexpect>4.3->ipython>=4.0.0->ipywidgets) (0.7.0)\n",
      "Requirement already satisfied: wcwidth in /Applications/anaconda3/lib/python3.11/site-packages (from prompt-toolkit!=3.0.37,<3.1.0,>=3.0.30->ipython>=4.0.0->ipywidgets) (0.2.5)\n",
      "Requirement already satisfied: executing in /Applications/anaconda3/lib/python3.11/site-packages (from stack-data->ipython>=4.0.0->ipywidgets) (0.8.3)\n",
      "Requirement already satisfied: asttokens in /Applications/anaconda3/lib/python3.11/site-packages (from stack-data->ipython>=4.0.0->ipywidgets) (2.0.5)\n",
      "Requirement already satisfied: pure-eval in /Applications/anaconda3/lib/python3.11/site-packages (from stack-data->ipython>=4.0.0->ipywidgets) (0.2.2)\n",
      "Requirement already satisfied: entrypoints in /Applications/anaconda3/lib/python3.11/site-packages (from jupyter-client>=5.3.4->notebook>=4.4.1->widgetsnbextension~=3.6.6->ipywidgets) (0.4)\n",
      "Requirement already satisfied: python-dateutil>=2.8.2 in /Applications/anaconda3/lib/python3.11/site-packages (from jupyter-client>=5.3.4->notebook>=4.4.1->widgetsnbextension~=3.6.6->ipywidgets) (2.8.2)\n",
      "Requirement already satisfied: platformdirs>=2.5 in /Applications/anaconda3/lib/python3.11/site-packages (from jupyter-core>=4.6.1->notebook>=4.4.1->widgetsnbextension~=3.6.6->ipywidgets) (2.5.2)\n",
      "Requirement already satisfied: jupyter-server>=1.8 in /Applications/anaconda3/lib/python3.11/site-packages (from nbclassic>=0.4.7->notebook>=4.4.1->widgetsnbextension~=3.6.6->ipywidgets) (2.12.5)\n",
      "Requirement already satisfied: notebook-shim>=0.1.0 in /Applications/anaconda3/lib/python3.11/site-packages (from nbclassic>=0.4.7->notebook>=4.4.1->widgetsnbextension~=3.6.6->ipywidgets) (0.2.2)\n",
      "Requirement already satisfied: lxml in /Applications/anaconda3/lib/python3.11/site-packages (from nbconvert>=5->notebook>=4.4.1->widgetsnbextension~=3.6.6->ipywidgets) (4.9.2)\n",
      "Requirement already satisfied: beautifulsoup4 in /Applications/anaconda3/lib/python3.11/site-packages (from nbconvert>=5->notebook>=4.4.1->widgetsnbextension~=3.6.6->ipywidgets) (4.12.2)\n",
      "Requirement already satisfied: bleach in /Applications/anaconda3/lib/python3.11/site-packages (from nbconvert>=5->notebook>=4.4.1->widgetsnbextension~=3.6.6->ipywidgets) (4.1.0)\n",
      "Requirement already satisfied: defusedxml in /Applications/anaconda3/lib/python3.11/site-packages (from nbconvert>=5->notebook>=4.4.1->widgetsnbextension~=3.6.6->ipywidgets) (0.7.1)\n",
      "Requirement already satisfied: jupyterlab-pygments in /Applications/anaconda3/lib/python3.11/site-packages (from nbconvert>=5->notebook>=4.4.1->widgetsnbextension~=3.6.6->ipywidgets) (0.1.2)\n",
      "Requirement already satisfied: MarkupSafe>=2.0 in /Applications/anaconda3/lib/python3.11/site-packages (from nbconvert>=5->notebook>=4.4.1->widgetsnbextension~=3.6.6->ipywidgets) (2.1.1)\n",
      "Requirement already satisfied: mistune<2,>=0.8.1 in /Applications/anaconda3/lib/python3.11/site-packages (from nbconvert>=5->notebook>=4.4.1->widgetsnbextension~=3.6.6->ipywidgets) (0.8.4)\n",
      "Requirement already satisfied: nbclient>=0.5.0 in /Applications/anaconda3/lib/python3.11/site-packages (from nbconvert>=5->notebook>=4.4.1->widgetsnbextension~=3.6.6->ipywidgets) (0.5.13)\n",
      "Requirement already satisfied: packaging in /Applications/anaconda3/lib/python3.11/site-packages (from nbconvert>=5->notebook>=4.4.1->widgetsnbextension~=3.6.6->ipywidgets) (23.0)\n",
      "Requirement already satisfied: pandocfilters>=1.4.1 in /Applications/anaconda3/lib/python3.11/site-packages (from nbconvert>=5->notebook>=4.4.1->widgetsnbextension~=3.6.6->ipywidgets) (1.5.0)\n",
      "Requirement already satisfied: tinycss2 in /Applications/anaconda3/lib/python3.11/site-packages (from nbconvert>=5->notebook>=4.4.1->widgetsnbextension~=3.6.6->ipywidgets) (1.2.1)\n",
      "Requirement already satisfied: fastjsonschema in /Applications/anaconda3/lib/python3.11/site-packages (from nbformat->notebook>=4.4.1->widgetsnbextension~=3.6.6->ipywidgets) (2.16.2)\n",
      "Requirement already satisfied: jsonschema>=2.6 in /Applications/anaconda3/lib/python3.11/site-packages (from nbformat->notebook>=4.4.1->widgetsnbextension~=3.6.6->ipywidgets) (4.20.0)\n"
     ]
    },
    {
     "name": "stdout",
     "output_type": "stream",
     "text": [
      "Requirement already satisfied: argon2-cffi-bindings in /Applications/anaconda3/lib/python3.11/site-packages (from argon2-cffi->notebook>=4.4.1->widgetsnbextension~=3.6.6->ipywidgets) (21.2.0)\n",
      "Requirement already satisfied: six in /Applications/anaconda3/lib/python3.11/site-packages (from asttokens->stack-data->ipython>=4.0.0->ipywidgets) (1.16.0)\n",
      "Requirement already satisfied: debugpy>=1.0 in /Applications/anaconda3/lib/python3.11/site-packages (from ipykernel->notebook>=4.4.1->widgetsnbextension~=3.6.6->ipywidgets) (1.6.7)\n",
      "Requirement already satisfied: psutil in /Applications/anaconda3/lib/python3.11/site-packages (from ipykernel->notebook>=4.4.1->widgetsnbextension~=3.6.6->ipywidgets) (5.9.0)\n",
      "Requirement already satisfied: attrs>=22.2.0 in /Applications/anaconda3/lib/python3.11/site-packages (from jsonschema>=2.6->nbformat->notebook>=4.4.1->widgetsnbextension~=3.6.6->ipywidgets) (23.2.0)\n",
      "Requirement already satisfied: jsonschema-specifications>=2023.03.6 in /Applications/anaconda3/lib/python3.11/site-packages (from jsonschema>=2.6->nbformat->notebook>=4.4.1->widgetsnbextension~=3.6.6->ipywidgets) (2023.12.1)\n",
      "Requirement already satisfied: referencing>=0.28.4 in /Applications/anaconda3/lib/python3.11/site-packages (from jsonschema>=2.6->nbformat->notebook>=4.4.1->widgetsnbextension~=3.6.6->ipywidgets) (0.32.1)\n",
      "Requirement already satisfied: rpds-py>=0.7.1 in /Applications/anaconda3/lib/python3.11/site-packages (from jsonschema>=2.6->nbformat->notebook>=4.4.1->widgetsnbextension~=3.6.6->ipywidgets) (0.17.1)\n",
      "Requirement already satisfied: anyio>=3.1.0 in /Applications/anaconda3/lib/python3.11/site-packages (from jupyter-server>=1.8->nbclassic>=0.4.7->notebook>=4.4.1->widgetsnbextension~=3.6.6->ipywidgets) (3.5.0)\n",
      "Requirement already satisfied: jupyter-events>=0.9.0 in /Applications/anaconda3/lib/python3.11/site-packages (from jupyter-server>=1.8->nbclassic>=0.4.7->notebook>=4.4.1->widgetsnbextension~=3.6.6->ipywidgets) (0.9.0)\n",
      "Requirement already satisfied: jupyter-server-terminals in /Applications/anaconda3/lib/python3.11/site-packages (from jupyter-server>=1.8->nbclassic>=0.4.7->notebook>=4.4.1->widgetsnbextension~=3.6.6->ipywidgets) (0.5.1)\n",
      "Requirement already satisfied: overrides in /Applications/anaconda3/lib/python3.11/site-packages (from jupyter-server>=1.8->nbclassic>=0.4.7->notebook>=4.4.1->widgetsnbextension~=3.6.6->ipywidgets) (7.4.0)\n",
      "Requirement already satisfied: websocket-client in /Applications/anaconda3/lib/python3.11/site-packages (from jupyter-server>=1.8->nbclassic>=0.4.7->notebook>=4.4.1->widgetsnbextension~=3.6.6->ipywidgets) (0.58.0)\n",
      "Requirement already satisfied: cffi>=1.0.1 in /Applications/anaconda3/lib/python3.11/site-packages (from argon2-cffi-bindings->argon2-cffi->notebook>=4.4.1->widgetsnbextension~=3.6.6->ipywidgets) (1.15.1)\n",
      "Requirement already satisfied: soupsieve>1.2 in /Applications/anaconda3/lib/python3.11/site-packages (from beautifulsoup4->nbconvert>=5->notebook>=4.4.1->widgetsnbextension~=3.6.6->ipywidgets) (2.4)\n",
      "Requirement already satisfied: webencodings in /Applications/anaconda3/lib/python3.11/site-packages (from bleach->nbconvert>=5->notebook>=4.4.1->widgetsnbextension~=3.6.6->ipywidgets) (0.5.1)\n",
      "Requirement already satisfied: idna>=2.8 in /Applications/anaconda3/lib/python3.11/site-packages (from anyio>=3.1.0->jupyter-server>=1.8->nbclassic>=0.4.7->notebook>=4.4.1->widgetsnbextension~=3.6.6->ipywidgets) (3.4)\n",
      "Requirement already satisfied: sniffio>=1.1 in /Applications/anaconda3/lib/python3.11/site-packages (from anyio>=3.1.0->jupyter-server>=1.8->nbclassic>=0.4.7->notebook>=4.4.1->widgetsnbextension~=3.6.6->ipywidgets) (1.2.0)\n",
      "Requirement already satisfied: pycparser in /Applications/anaconda3/lib/python3.11/site-packages (from cffi>=1.0.1->argon2-cffi-bindings->argon2-cffi->notebook>=4.4.1->widgetsnbextension~=3.6.6->ipywidgets) (2.21)\n",
      "Requirement already satisfied: python-json-logger>=2.0.4 in /Applications/anaconda3/lib/python3.11/site-packages (from jupyter-events>=0.9.0->jupyter-server>=1.8->nbclassic>=0.4.7->notebook>=4.4.1->widgetsnbextension~=3.6.6->ipywidgets) (2.0.7)\n",
      "Requirement already satisfied: pyyaml>=5.3 in /Applications/anaconda3/lib/python3.11/site-packages (from jupyter-events>=0.9.0->jupyter-server>=1.8->nbclassic>=0.4.7->notebook>=4.4.1->widgetsnbextension~=3.6.6->ipywidgets) (6.0)\n",
      "Requirement already satisfied: rfc3339-validator in /Applications/anaconda3/lib/python3.11/site-packages (from jupyter-events>=0.9.0->jupyter-server>=1.8->nbclassic>=0.4.7->notebook>=4.4.1->widgetsnbextension~=3.6.6->ipywidgets) (0.1.4)\n",
      "Requirement already satisfied: rfc3986-validator>=0.1.1 in /Applications/anaconda3/lib/python3.11/site-packages (from jupyter-events>=0.9.0->jupyter-server>=1.8->nbclassic>=0.4.7->notebook>=4.4.1->widgetsnbextension~=3.6.6->ipywidgets) (0.1.1)\n",
      "Requirement already satisfied: fqdn in /Applications/anaconda3/lib/python3.11/site-packages (from jsonschema[format-nongpl]>=4.18.0->jupyter-events>=0.9.0->jupyter-server>=1.8->nbclassic>=0.4.7->notebook>=4.4.1->widgetsnbextension~=3.6.6->ipywidgets) (1.5.1)\n",
      "Requirement already satisfied: isoduration in /Applications/anaconda3/lib/python3.11/site-packages (from jsonschema[format-nongpl]>=4.18.0->jupyter-events>=0.9.0->jupyter-server>=1.8->nbclassic>=0.4.7->notebook>=4.4.1->widgetsnbextension~=3.6.6->ipywidgets) (20.11.0)\n",
      "Requirement already satisfied: jsonpointer>1.13 in /Applications/anaconda3/lib/python3.11/site-packages (from jsonschema[format-nongpl]>=4.18.0->jupyter-events>=0.9.0->jupyter-server>=1.8->nbclassic>=0.4.7->notebook>=4.4.1->widgetsnbextension~=3.6.6->ipywidgets) (2.1)\n",
      "Requirement already satisfied: uri-template in /Applications/anaconda3/lib/python3.11/site-packages (from jsonschema[format-nongpl]>=4.18.0->jupyter-events>=0.9.0->jupyter-server>=1.8->nbclassic>=0.4.7->notebook>=4.4.1->widgetsnbextension~=3.6.6->ipywidgets) (1.3.0)\n",
      "Requirement already satisfied: webcolors>=1.11 in /Applications/anaconda3/lib/python3.11/site-packages (from jsonschema[format-nongpl]>=4.18.0->jupyter-events>=0.9.0->jupyter-server>=1.8->nbclassic>=0.4.7->notebook>=4.4.1->widgetsnbextension~=3.6.6->ipywidgets) (1.13)\n",
      "Requirement already satisfied: arrow>=0.15.0 in /Applications/anaconda3/lib/python3.11/site-packages (from isoduration->jsonschema[format-nongpl]>=4.18.0->jupyter-events>=0.9.0->jupyter-server>=1.8->nbclassic>=0.4.7->notebook>=4.4.1->widgetsnbextension~=3.6.6->ipywidgets) (1.2.3)\n",
      "\n",
      "\u001b[1m[\u001b[0m\u001b[34;49mnotice\u001b[0m\u001b[1;39;49m]\u001b[0m\u001b[39;49m A new release of pip is available: \u001b[0m\u001b[31;49m23.3.2\u001b[0m\u001b[39;49m -> \u001b[0m\u001b[32;49m24.0\u001b[0m\n",
      "\u001b[1m[\u001b[0m\u001b[34;49mnotice\u001b[0m\u001b[1;39;49m]\u001b[0m\u001b[39;49m To update, run: \u001b[0m\u001b[32;49mpip install --upgrade pip\u001b[0m\n",
      "Note: you may need to restart the kernel to use updated packages.\n"
     ]
    }
   ],
   "source": [
    "pip install ipywidgets"
   ]
  },
  {
   "cell_type": "markdown",
   "metadata": {},
   "source": [
    "### Note: Use Jupyter Lab for programming, Jupyter Notebook for visualization (optional)\n",
    "This command only enables the extension for jupyter notebook and not in jupyter lab! You can edit from the comfort of jupyter lab though and when you feel like using the widgets just go to\n",
    "\n",
    "Menu bar > Help > Launch Classic Notebook"
   ]
  },
  {
   "cell_type": "code",
   "execution_count": 1,
   "metadata": {},
   "outputs": [
    {
     "ename": "SyntaxError",
     "evalue": "invalid syntax (2269694994.py, line 1)",
     "output_type": "error",
     "traceback": [
      "\u001b[0;36m  Cell \u001b[0;32mIn[1], line 1\u001b[0;36m\u001b[0m\n\u001b[0;31m    jupyter nbextension enable --py widgetsnbextension\u001b[0m\n\u001b[0m            ^\u001b[0m\n\u001b[0;31mSyntaxError\u001b[0m\u001b[0;31m:\u001b[0m invalid syntax\n"
     ]
    }
   ],
   "source": [
    "jupyter nbextension enable --py widgetsnbextension"
   ]
  },
  {
   "cell_type": "markdown",
   "metadata": {},
   "source": [
    "## Here we go... inspecting the models, option 1\n",
    "\n",
    "### Your main job will be in the file Filters.py and in the last cell of this notebook, this is only to understand the models\n",
    "\n",
    "In _models_, all the actually interesting stuff is located, and in _Filters_ you should write your own code. Note that the visualization (next cell on inspecting the models, option 2) assumes to have access to an object of type _Localizer_ which in turn expects the filtering / smoothing to happen in _Filters.HMM_Filters.filter(sensorR)_. This means that IF you want to make use of the visualisation in grid-view (below!) also for the actual tracking, you MUST implement the filtering in _Filters.HMM_Filter.filter(sensorR)_ (or make changes in _Localizer.Localizer.update()_)\n",
    "\n"
   ]
  },
  {
   "cell_type": "code",
   "execution_count": 2,
   "metadata": {
    "scrolled": false
   },
   "outputs": [
    {
     "data": {
      "image/png": "[encoded data removed]",
      "text/plain": [
       "<Figure size 480x480 with 2 Axes>"
      ]
     },
     "metadata": {},
     "output_type": "display_data"
    },
    {
     "data": {
      "image/png": "[encoded data removed]",
      "text/plain": [
       "<Figure size 1600x412.5 with 2 Axes>"
      ]
     },
     "metadata": {},
     "output_type": "display_data"
    },
    {
     "name": "stdout",
     "output_type": "stream",
     "text": [
      "[[0.1 0.  0.  ... 0.  0.  0. ]\n",
      " [0.  0.1 0.  ... 0.  0.  0. ]\n",
      " [0.  0.  0.1 ... 0.  0.  0. ]\n",
      " ...\n",
      " [0.  0.  0.  ... 0.  0.  0. ]\n",
      " [0.  0.  0.  ... 0.  0.  0. ]\n",
      " [0.  0.  0.  ... 0.  0.  0. ]]\n",
      "[[0.1 0.  0.  ... 0.  0.  0. ]\n",
      " [0.  0.1 0.  ... 0.  0.  0. ]\n",
      " [0.  0.  0.1 ... 0.  0.  0. ]\n",
      " ...\n",
      " [0.  0.  0.  ... 0.1 0.  0. ]\n",
      " [0.  0.  0.  ... 0.  0.1 0. ]\n",
      " [0.  0.  0.  ... 0.  0.  0.1]]\n",
      "(False, 3, 6, 3, -1, -1, 0, 0, 9, array([0.03125, 0.03125, 0.03125, 0.03125, 0.03125, 0.03125, 0.03125,\n",
      "       0.03125, 0.03125, 0.03125, 0.03125, 0.03125, 0.03125, 0.03125,\n",
      "       0.03125, 0.03125, 0.03125, 0.03125, 0.03125, 0.03125, 0.03125,\n",
      "       0.03125, 0.03125, 0.03125, 0.03125, 0.03125, 0.03125, 0.03125,\n",
      "       0.03125, 0.03125, 0.03125, 0.03125, 0.03125, 0.03125, 0.03125,\n",
      "       0.03125, 0.03125, 0.03125, 0.03125, 0.03125, 0.03125, 0.03125,\n",
      "       0.03125, 0.03125, 0.03125, 0.03125, 0.03125, 0.03125, 0.03125,\n",
      "       0.03125, 0.03125, 0.03125, 0.03125, 0.03125, 0.03125, 0.03125,\n",
      "       0.03125, 0.03125, 0.03125, 0.03125, 0.03125, 0.03125, 0.03125,\n",
      "       0.03125, 0.03125, 0.03125, 0.03125, 0.03125, 0.03125, 0.03125,\n",
      "       0.03125, 0.03125, 0.03125, 0.03125, 0.03125, 0.03125, 0.03125,\n",
      "       0.03125, 0.03125, 0.03125, 0.03125, 0.03125, 0.03125, 0.03125,\n",
      "       0.03125, 0.03125, 0.03125, 0.03125, 0.03125, 0.03125, 0.03125,\n",
      "       0.03125, 0.03125, 0.03125, 0.03125, 0.03125, 0.03125, 0.03125,\n",
      "       0.03125, 0.03125, 0.03125, 0.03125, 0.03125, 0.03125, 0.03125,\n",
      "       0.03125, 0.03125, 0.03125, 0.03125, 0.03125, 0.03125, 0.03125,\n",
      "       0.03125, 0.03125, 0.03125, 0.03125, 0.03125, 0.03125, 0.03125,\n",
      "       0.03125, 0.03125, 0.03125, 0.03125, 0.03125, 0.03125, 0.03125,\n",
      "       0.03125, 0.03125]))\n"
     ]
    }
   ],
   "source": [
    "from models import *\n",
    "from view_control.Localizer import Localizer\n",
    "\n",
    "# Testing the models, e.g., for an 4x8 grid\n",
    "\n",
    "states = StateModel( 4, 8)\n",
    "loc = Localizer( states, 1)\n",
    "tMat = loc.get_transition_model()\n",
    "sVecs = loc.get_observation_model()\n",
    "tMat.plot_T()\n",
    "sVecs.plot_o_diags()\n",
    "print(sVecs.get_o_reading(0))\n",
    "print(sVecs.get_o_reading(None))\n",
    "\n",
    "print(loc.update())\n"
   ]
  },
  {
   "cell_type": "markdown",
   "metadata": {},
   "source": [
    "## Here we go again... inspecting the models, option 2\n",
    "\n",
    "### Your implementation job will still be in the file Filters.py, this is only to understand the models AND to get a glimpse of a tracking run (but it is slow)\n",
    "\n",
    "In _models_, all the actually interesting stuff is located, and in _Filters_ you should write your own code. Note that this visualization assumes to have access to an object of type Localizer which in turn expects the filtering / smoothing to happen in _Filters.HMM_Filters.filter()_. This means that IF you want to make use of the visualisation in grid-view also for the actual tracking, you MUST implement the filtering in Filters.HMM_Filter.filter() (or make respective changes in _Localizer.Localizer.update()_)\n",
    "\n",
    "### Your Task 1)\n",
    "#### Inspect the visualisation of the models by running the cell and experimenting with the GUI, in particular compare and explain the different versions of the sensor model (see more detailed instructions for the task and report)"
   ]
  },
  {
   "cell_type": "code",
   "execution_count": 2,
   "metadata": {
    "scrolled": false
   },
   "outputs": [
    {
     "data": {
      "application/vnd.jupyter.widget-view+json": {
       "model_id": "e479c224fd194c6daa26eb43b63f3ced",
       "version_major": 2,
       "version_minor": 0
      },
      "text/plain": [
       "VBox(children=(HBox(children=(IntSlider(value=4, description='Height', max=10, min=4), IntSlider(value=4, desc…"
      ]
     },
     "metadata": {},
     "output_type": "display_data"
    },
    {
     "name": "stdout",
     "output_type": "stream",
     "text": [
      "24 24 [ 0  3  6  9 12 15 18 21 24]\n",
      "new simulation started\n",
      "<class 'numpy.ndarray'>\n",
      "(3, 0)\n",
      "24 24 [ 0  3  6  9 12 15 18 21 24]\n",
      "true pose = <2, 1, 3>, sensed position = <3, 0>, guessed position = <3, 0>\n",
      "nbr of moves: 1, avg error: 2.0, nbr correct guesses: 0\n",
      "<class 'numpy.ndarray'>\n",
      "(0, 0)\n",
      "24 24 [ 0  3  6  9 12 15 18 21 24]\n",
      "thread stopped\n"
     ]
    }
   ],
   "source": [
    "# In view_control.Dashboard, there is simply the handling of all the thread based visualisation provided, \n",
    "# no changes needed, but feel free...\n",
    "\n",
    "from view_control import *\n",
    "\n",
    "ROWS = 4\n",
    "COLS = 4\n",
    "\n",
    "# The dashboard creates a state model of the dimensions given by ROWS and COLS, sets up the respective \n",
    "# Transition and Observation models, as well as an instance of class Localizer. The Localizer calls at the \n",
    "# moment a stubb method toDo.Filters.HMMFilter.filter(sensorReading), which just sends back the original \n",
    "# probability distribution - no filtering is done. It is your task to implement something useful there.\n",
    "\n",
    "# Non-uniform failure is the default sensor, sensor 0. Change to 1 if that is your default \n",
    "# (uniform sensor failure)\n",
    "sensorType = 0\n",
    "dash = Dashboard(ROWS, COLS, sensorType)\n",
    "display(dash.db)\n"
   ]
  },
  {
   "cell_type": "markdown",
   "metadata": {},
   "source": [
    "## Write your own \"main\" here (without the viewer)\n",
    "\n",
    "### Your task 2)\n",
    "#### Implement both Forward Filtering and Forward-Backward Smoothing with k = t-5 (a sequence length of 5)\n",
    "#### Do evaluations (500 steps should be enough also for the bigger grids) according to the following, adapt the number of steps or the size of the grid if needed, but comment on it\n",
    "#### Provide plots of the Manhattan distance over time\n",
    "\n",
    "1)\n",
    "* Forward Filtering with non-uniform sensor failure on 8x8 grid against\n",
    "* Sensor output only (non-uniform sensor failure, count sensor failures to get the average frequency, but do not count those steps into the avg Manhattan distance) on 8x8 grid \n",
    "\n",
    "\n",
    "2)\n",
    "* Forward Filtering with non-uniform sensor failure on 4x4 grid against\n",
    "* Forward Filtering with uniform sensor failure on 4x4 grid\n",
    "\n",
    "\n",
    "3)\n",
    "* Forward Filtering with non-uniform sensor failure on 16x20 grid against\n",
    "* Forward Filtering with uniform sensor failure on 16x20 grid\n",
    "\n",
    "\n",
    "4)\n",
    "* Forward Filtering with non-uniform sensor failure on 10x10 grid against\n",
    "* Smoothing (forward-backward smoothing) with k = t-5 (five steps for b) and non-uniform sensor failure on 10x10 grid\n",
    "\n",
    "#### OBS: obviously, each pair-wise evaluation should be run based on the same true trajectory (cases 1, 2, 3) or same trajectory AND same sensor reading sequence (for case 4)."
   ]
  },
  {
   "cell_type": "code",
   "execution_count": 3,
   "metadata": {
    "scrolled": true
   },
   "outputs": [
    {
     "ename": "NameError",
     "evalue": "name 'UF' is not defined",
     "output_type": "error",
     "traceback": [
      "\u001b[0;31m---------------------------------------------------------------------------\u001b[0m",
      "\u001b[0;31mNameError\u001b[0m                                 Traceback (most recent call last)",
      "Cell \u001b[0;32mIn[3], line 87\u001b[0m\n\u001b[1;32m     83\u001b[0m         md_smooth \u001b[38;5;241m+\u001b[39m\u001b[38;5;241m=\u001b[39m \u001b[38;5;28msum\u001b[39m(\u001b[38;5;28mabs\u001b[39m(np\u001b[38;5;241m.\u001b[39marray(true[\u001b[38;5;28mlen\u001b[39m(true) \u001b[38;5;241m-\u001b[39m \u001b[38;5;241m6\u001b[39m]) \u001b[38;5;241m-\u001b[39m np\u001b[38;5;241m.\u001b[39marray(__estimateSmooth)))\n\u001b[1;32m     84\u001b[0m         l3\u001b[38;5;241m.\u001b[39mappend(md_smooth)\n\u001b[0;32m---> 87\u001b[0m \u001b[38;5;28;01mif\u001b[39;00m UF:  \n\u001b[1;32m     88\u001b[0m     \u001b[38;5;28mprint\u001b[39m(md_uf\u001b[38;5;241m/\u001b[39m\u001b[38;5;241m500\u001b[39m)\n\u001b[1;32m     89\u001b[0m     plt\u001b[38;5;241m.\u001b[39mplot([i \u001b[38;5;28;01mfor\u001b[39;00m i \u001b[38;5;129;01min\u001b[39;00m \u001b[38;5;28mrange\u001b[39m(\u001b[38;5;28mlen\u001b[39m(l1))],l1)\n",
      "\u001b[0;31mNameError\u001b[0m: name 'UF' is not defined"
     ]
    }
   ],
   "source": [
    "# In this cell, you can write your own \"main\" to run and evaluate your \n",
    "# implementation without using the visualisation above (should be considerably faster!)\n",
    "\n",
    "from models import *\n",
    "from Filters import HMMFilter\n",
    "import numpy as np\n",
    "import matplotlib.pyplot as plt\n",
    "import random\n",
    "\n",
    "ROW = 8\n",
    "COL = 8\n",
    "NUF = False\n",
    "NO_None = False\n",
    "Smooth = False\n",
    "\n",
    "\n",
    "states = StateModel( ROW, COL)\n",
    "__tm = TransitionModel(states)\n",
    "__omuf = ObservationModel_UF.ObservationModelUF(states)\n",
    "__omnuf = ObservationModel_NUF.ObservationModel(states)\n",
    "__trueState = random.randint(0, states.get_num_of_states() - 1)\n",
    "__probs = np.ones(states.get_num_of_states()) / (states.get_num_of_states())\n",
    "__HMMuf = HMMFilter(__probs,__tm,__omuf, states)\n",
    "__HMMnuf = HMMFilter(__probs,__tm,__omnuf, states)\n",
    "__HMMSmooth = HMMFilter(__probs,__tm,__omnuf, states)\n",
    "\n",
    "__rs = RobotSim(__trueState, states)\n",
    "md_uf = 0\n",
    "md_nuf = 0\n",
    "md_smooth = 0\n",
    "sense_none = 0\n",
    "__sense_smooth = []\n",
    "true = []\n",
    "l1 = []\n",
    "l2 = []\n",
    "l3 = []\n",
    "\n",
    "\n",
    "for i in range(500):\n",
    "    __trueState = __rs.move_once(__tm)\n",
    "    true.append(states.state_to_position(__trueState))\n",
    "    __senseuf = __rs.sense_in_current_state(__omuf)\n",
    "    __sensenuf = __rs.sense_in_current_state(__omnuf)\n",
    "    \n",
    "    __sense_smooth.append(__sensenuf)\n",
    "\n",
    "    __probsuf = __HMMuf.filter(__senseuf)\n",
    "    __probsnuf = __HMMnuf.filter(__sensenuf)   \n",
    "    \n",
    "    fPositionsuf = __probsuf.copy()\n",
    "    fPositionsnuf = __probsnuf.copy()\n",
    "    \n",
    "        \n",
    "    for state in range(0, states.get_num_of_states(), 4) :\n",
    "        fPositionsuf[state:state+4] = sum(fPositionsuf[state:state+4])\n",
    "        fPositionsnuf[state:state+4] = sum(fPositionsnuf[state:state+4])\n",
    "        \n",
    "        \n",
    "    __estimateuf = states.state_to_position(np.argmax(fPositionsuf))\n",
    "    __estimatenuf = states.state_to_position(np.argmax(fPositionsnuf))\n",
    "    \n",
    "    \n",
    "    md_uf += sum(abs(np.array(true[len(true) -1]) - np.array(__estimateuf)))\n",
    "    l1.append(md_uf)\n",
    "    \n",
    "    if NO_None and NUF:\n",
    "        if sense_none != None:\n",
    "            md_nuf += sum(abs(np.array(true[len(true) -1]) - np.array(__estimatenuf)))\n",
    "            l2.append(md_nuf)\n",
    "        else:\n",
    "            sense_none += 1\n",
    "    elif NUF:\n",
    "        md_nuf += sum(abs(np.array(true[len(true) -1]) - np.array(__estimatenuf)))\n",
    "        l2.append(md_nuf)\n",
    "        \n",
    "    \n",
    "    if len(__sense_smooth) == 5 and Smooth:\n",
    "        __probs_smooth = __HMMSmooth.fb_smooth(__sense_smooth)\n",
    "        fPositionsSmooth = __probs_smooth.copy()\n",
    "        for state in range(0, states.get_num_of_states(), 4) :\n",
    "            fPositionsSmooth[state:state+4] = sum(fPositionsSmooth[state:state+4])\n",
    "        __estimateSmooth = states.state_to_position(np.argmax(fPositionsSmooth))\n",
    "        md_smooth += sum(abs(np.array(true[len(true) - 6]) - np.array(__estimateSmooth)))\n",
    "        l3.append(md_smooth)\n",
    "    \n",
    "    \n",
    "if UF:  \n",
    "    print(md_uf/500)\n",
    "    plt.plot([i for i in range(len(l1))],l1)\n",
    "if NUF:\n",
    "    print(md_nuf/(500 - sense_none))\n",
    "    plt.plot([i for i in range(len(l2))],l2)\n",
    "if Smooth:\n",
    "    print(md_smooth/495)\n",
    "    plt.plot([i for i in range(len(l3))],l3)\n",
    "\n",
    "\n",
    "\n",
    "plt.title('Time Series Plot')\n",
    "plt.xlabel('State')\n",
    "plt.ylabel('Distance')\n",
    "plt.show()"
   ]
  },
  {
   "cell_type": "code",
   "execution_count": null,
   "metadata": {},
   "outputs": [],
   "source": []
  },
  {
   "cell_type": "code",
   "execution_count": null,
   "metadata": {},
   "outputs": [],
   "source": []
  }
 ],
 "metadata": {
  "kernelspec": {
   "display_name": "Python 3 (ipykernel)",
   "language": "python",
   "name": "python3"
  },
  "language_info": {
   "codemirror_mode": {
    "name": "ipython",
    "version": 3
   },
   "file_extension": ".py",
   "mimetype": "text/x-python",
   "name": "python",
   "nbconvert_exporter": "python",
   "pygments_lexer": "ipython3",
   "version": "3.11.4"
  }
 },
 "nbformat": 4,
 "nbformat_minor": 4
}
